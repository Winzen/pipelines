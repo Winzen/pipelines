{
 "cells": [
  {
   "cell_type": "markdown",
   "id": "9579dbd1-4936-4037-bd79-9db9472c3f76",
   "metadata": {},
   "source": [
    "### CVM Administradores de Carteira: Informação Cadastral\n",
    "\n",
    "Limpeza realizada por Ricardo Dahis  \n",
    "Dados originais obtidos em [Dados Abertos CVM](http://dados.cvm.gov.br/dataset/adm_cart-cad)   \n",
    "E os dados processados se encontram em [Base dos Dados](https://basedosdados.org/dataset/br-cvm-administradores-carteira)"
   ]
  },
  {
   "cell_type": "markdown",
   "id": "ad59a8c0-9c46-40c7-88f6-9383a6cda6bc",
   "metadata": {
    "tags": []
   },
   "source": [
    "### Prefácio"
   ]
  },
  {
   "cell_type": "code",
   "execution_count": 15,
   "id": "7035744f-32e9-4d72-a1b3-6dcb1f356a2c",
   "metadata": {},
   "outputs": [],
   "source": [
    "import os\n",
    "import sys\n",
    "module_path = os.path.abspath(os.path.join(\"..\"))\n",
    "if module_path not in sys.path:\n",
    "    sys.path.append(module_path)\n",
    "from utils import log"
   ]
  },
  {
   "cell_type": "code",
   "execution_count": 16,
   "id": "326ed621-c2f0-4a40-bd21-abb1ad7f50b9",
   "metadata": {},
   "outputs": [],
   "source": [
    "import shutil\n",
    "from pathlib import Path\n",
    "from typing import Union\n",
    "\n",
    "import requests\n",
    "import pandas as pd\n",
    "import basedosdados as bd"
   ]
  },
  {
   "cell_type": "code",
   "execution_count": 17,
   "id": "6219641f-1b20-4897-8aff-75ed6fd0e2cf",
   "metadata": {},
   "outputs": [],
   "source": [
    "root = \"/tmp/basedosdados\"\n",
    "url = \"http://dados.cvm.gov.br/dados/ADM_CART/CAD/DADOS/cad_adm_cart.zip\""
   ]
  },
  {
   "cell_type": "markdown",
   "id": "ce00dea1-c516-4307-8e37-78418f7159e7",
   "metadata": {},
   "source": [
    "### Download"
   ]
  },
  {
   "cell_type": "code",
   "execution_count": 20,
   "id": "e98e443d-fe00-4744-abef-ef5a6d13094a",
   "metadata": {},
   "outputs": [],
   "source": [
    "def crawl(root: str, url: str) -> None:\n",
    "    \"\"\"Download and unzip dataset br_cvm_administradores_carteira\"\"\"\n",
    "    filepath = f\"{root}/data.zip\"\n",
    "    os.makedirs(root, exist_ok=True)\n",
    "    with open(filepath, \"wb\") as file:\n",
    "        response = requests.get(url)\n",
    "        file.write(response.content)\n",
    "        shutil.unpack_archive(filepath, extract_dir=root)\n",
    "\n",
    "crawl(root, url)"
   ]
  },
  {
   "cell_type": "markdown",
   "id": "adaa8dff-b89c-491e-bef8-46ca2c676e4b",
   "metadata": {},
   "source": [
    "### Limpeza"
   ]
  },
  {
   "cell_type": "code",
   "execution_count": 21,
   "id": "76c9aab2-e9fd-4531-a913-5d438a31a4b3",
   "metadata": {},
   "outputs": [],
   "source": [
    "def clean_table_responsavel(root: str) -> str:\n",
    "    \"\"\"Clean table pessoa_fisica\"\"\"\n",
    "    in_filepath = f\"{root}/cad_adm_cart_resp.csv\"\n",
    "    ou_filepath = f\"{root}/bd_responsavel.csv\"\n",
    "\n",
    "    df = pd.read_csv(\n",
    "        in_filepath,\n",
    "        sep=\";\",\n",
    "        keep_default_na=False,\n",
    "        encoding=\"latin1\",\n",
    "        dtype=object\n",
    "    )\n",
    "\n",
    "    df.columns = [\n",
    "        \"cnpj\",\n",
    "        \"nome\",\n",
    "        \"tipo\"\n",
    "    ]\n",
    "\n",
    "    df[\"cnpj\"] = df[\"cnpj\"].str.replace(\".\", \"\")\n",
    "    df[\"cnpj\"] = df[\"cnpj\"].str.replace(\"/\", \"\")\n",
    "    df[\"cnpj\"] = df[\"cnpj\"].str.replace(\"-\", \"\")\n",
    "\n",
    "    df.to_csv(ou_filepath, index=False)\n",
    "\n",
    "    return ou_filepath\n",
    "\n",
    "re_filepath = clean_table_responsavel(root)"
   ]
  },
  {
   "cell_type": "code",
   "execution_count": 22,
   "id": "43b3e1cc-84d0-45c0-b45b-5b186b754487",
   "metadata": {},
   "outputs": [],
   "source": [
    "def clean_table_pessoa_fisica(root: str) -> str:\n",
    "    \"\"\"Clean table pessoa_fisica\"\"\"\n",
    "    in_filepath = f\"{root}/cad_adm_cart_pf.csv\"\n",
    "    ou_filepath = f\"{root}/bd_pessoa_fisica.csv\"\n",
    "\n",
    "    df = pd.read_csv(\n",
    "        in_filepath,\n",
    "        sep=\";\",\n",
    "        keep_default_na=False,\n",
    "        encoding=\"latin1\",\n",
    "        dtype=object,\n",
    "    )\n",
    "\n",
    "    df.columns = [\n",
    "        \"nome\",\n",
    "        \"data_registro\",\n",
    "        \"data_cancelamento\",\n",
    "        \"motivo_cancelamento\",\n",
    "        \"situacao\",\n",
    "        \"data_inicio_situacao\",\n",
    "        \"categoria_registro\",\n",
    "    ]\n",
    "\n",
    "    df.to_csv(ou_filepath, index=False)\n",
    "    \n",
    "    return ou_filepath\n",
    "\n",
    "pf_filepath = clean_table_pessoa_fisica(root)"
   ]
  },
  {
   "cell_type": "code",
   "execution_count": 23,
   "id": "3061e822-d4d0-4bf4-b6a3-dce8d85fbf6d",
   "metadata": {},
   "outputs": [],
   "source": [
    "def clean_table_pessoa_juridica(root: str) -> str:\n",
    "    \"\"\"Clean table pessoa_fisica\"\"\"\n",
    "    in_filepath = f\"{root}/cad_adm_cart_pj.csv\"\n",
    "    ou_filepath = f\"{root}/bd_pessoa_juridica.csv\"\n",
    "\n",
    "    df = pd.read_csv(\n",
    "        in_filepath,\n",
    "        sep=\";\",\n",
    "        keep_default_na=False,\n",
    "        encoding=\"latin1\",\n",
    "        dtype=object\n",
    "    )\n",
    "\n",
    "    df.columns = [\n",
    "        \"cnpj\",\n",
    "        \"denominacao_social\",\n",
    "        \"denominacao_comercial\",\n",
    "        \"data_registro\",\n",
    "        \"data_cancelamento\",\n",
    "        \"motivo_cancelamento\",\n",
    "        \"situacao\",\n",
    "        \"data_inicio_situacao\",\n",
    "        \"categoria_registro\",\n",
    "        \"subcategoria_registro\",\n",
    "        \"controle_acionario\",\n",
    "        \"tipo_endereco\",\n",
    "        \"logradouro\",\n",
    "        \"complemento\",\n",
    "        \"bairro\",\n",
    "        \"municipio\",\n",
    "        \"sigla_uf\",\n",
    "        \"cep\",\n",
    "        \"ddd\",\n",
    "        \"telefone\",\n",
    "        \"valor_patrimonial_liquido\",\n",
    "        \"data_patrimonio_liquido\",\n",
    "        \"email\",\n",
    "        \"website\"\n",
    "    ]\n",
    "\n",
    "    df[\"cnpj\"] = df[\"cnpj\"].str.replace(\".\", \"\")\n",
    "    df[\"cnpj\"] = df[\"cnpj\"].str.replace(\"/\", \"\")\n",
    "    df[\"cnpj\"] = df[\"cnpj\"].str.replace(\"-\", \"\")\n",
    "\n",
    "    df.to_csv(ou_filepath, index=False)\n",
    "    \n",
    "    return ou_filepath\n",
    "\n",
    "pj_filepath = clean_table_pessoa_juridica(root)"
   ]
  },
  {
   "cell_type": "markdown",
   "id": "dbc83c90-f4da-47c9-a19d-96ee8d2c9e38",
   "metadata": {},
   "source": [
    "### Upload\n",
    "Adaptado do código em `basedosdados_template` por Diego Oliveira"
   ]
  },
  {
   "cell_type": "code",
   "execution_count": null,
   "id": "b7bdde05-8233-4335-a977-7b39749efa7f",
   "metadata": {},
   "outputs": [],
   "source": [
    "def upload_to_gcs(dataset_id: str, table_id: str, path: Union[str, Path]) -> None:\n",
    "    \"\"\"Upload a bunch of CSVs to Google Cloud Storage using basedosdados library\"\"\"\n",
    "    tb = bd.Table(dataset_id=dataset_id, table_id=table_id)\n",
    "\n",
    "    if tb.table_exists(mode=\"staging\"):\n",
    "        tb.append(\n",
    "            filepath=path,\n",
    "            if_exists=\"replace\",\n",
    "        )\n",
    "\n",
    "        log((f\"Successfully uploaded {path} to \"\n",
    "             f\"{tb.bucket_name}.staging.{dataset_id}.{table_id}\"))\n",
    "    else:\n",
    "        log((\"Table does not exist in STAGING, need to create it in local first.\\n\"\n",
    "             \"Create and publish the table in BigQuery first.\"))"
   ]
  },
  {
   "cell_type": "code",
   "execution_count": null,
   "id": "c6952671-928c-463f-bd29-55afb15c3e77",
   "metadata": {},
   "outputs": [],
   "source": [
    "upload_to_gcs(\"br_cvm_administradores_carteira\", \"responsavel\", re_filepath)\n",
    "upload_to_gcs(\"br_cvm_administradores_carteira\", \"pessoa_fisica\", pf_filepath)\n",
    "upload_to_gcs(\"br_cvm_administradores_carteira\", \"pessoa_juridica\", pj_filepath)"
   ]
  },
  {
   "cell_type": "markdown",
   "id": "12979529-6e5f-4801-b2f0-14a48ac4d1c4",
   "metadata": {},
   "source": [
    "### Epílogo"
   ]
  },
  {
   "cell_type": "code",
   "execution_count": null,
   "id": "8c04992a-d2d8-4d69-a980-b55f03422ff2",
   "metadata": {},
   "outputs": [],
   "source": [
    "shutil.rmtree(root)"
   ]
  }
 ],
 "metadata": {
  "kernelspec": {
   "display_name": "Python 3 (ipykernel)",
   "language": "python",
   "name": "python3"
  },
  "language_info": {
   "codemirror_mode": {
    "name": "ipython",
    "version": 3
   },
   "file_extension": ".py",
   "mimetype": "text/x-python",
   "name": "python",
   "nbconvert_exporter": "python",
   "pygments_lexer": "ipython3",
   "version": "3.10.0"
  }
 },
 "nbformat": 4,
 "nbformat_minor": 5
}
