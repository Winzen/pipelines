{
 "cells": [
  {
   "cell_type": "markdown",
   "id": "f88ed1ea-c250-4fb6-8341-bd3d6fa61009",
   "metadata": {
    "tags": []
   },
   "source": [
    "## CVM Oferta Públicas de Distribuição\n",
    "\n",
    "Limpeza realizada por Ricardo Dahis  \n",
    "Dados originais obtidos em [Dados Abertos CVM](http://dados.cvm.gov.br/dataset/oferta-distrib)   \n",
    "E os dados processados se encontram em [Base dos Dados](https://basedosdados.org/dataset/br-cvm-oferta-publica-distribuicao)"
   ]
  },
  {
   "cell_type": "markdown",
   "id": "7b8e8336-0b25-4265-ba07-9dd1d344288d",
   "metadata": {
    "tags": []
   },
   "source": [
    "### Prefácio"
   ]
  },
  {
   "cell_type": "code",
   "execution_count": null,
   "id": "d51a5593-75b6-4a2a-9537-15f2e696491d",
   "metadata": {},
   "outputs": [],
   "source": [
    "import os\n",
    "import shutil\n",
    "from pathlib import Path\n",
    "from typing import Union\n",
    "\n",
    "import requests\n",
    "import numpy as np\n",
    "import pandas as pd\n",
    "import basedosdados as bd"
   ]
  },
  {
   "cell_type": "code",
   "execution_count": null,
   "id": "2575cb6e-564b-4faa-9a51-442830d038db",
   "metadata": {},
   "outputs": [],
   "source": [
    "folder = \"/tmp/basedosdados\"\n",
    "url = \"http://dados.cvm.gov.br/dados/OFERTA/DISTRIB/DADOS/oferta_distribuicao.csv\""
   ]
  },
  {
   "cell_type": "markdown",
   "id": "f7238643-082d-4b20-9db5-26dd39614ed3",
   "metadata": {},
   "source": [
    "### Download"
   ]
  },
  {
   "cell_type": "code",
   "execution_count": null,
   "id": "f3b7fa7c-de68-4851-ab72-ee8cf6fb73bd",
   "metadata": {},
   "outputs": [],
   "source": [
    "filepath = f\"{folder}/data.zip\"\n",
    "os.makedirs(folder, exist_ok=True)\n",
    "with open(filepath, \"wb\") as file:\n",
    "    response = requests.get(url)\n",
    "    file.write(response.content)\n",
    "    shutil.unpack_archive(filepath)"
   ]
  },
  {
   "cell_type": "markdown",
   "id": "527bc5b5-7090-4b03-aa27-65e51308bb9f",
   "metadata": {},
   "source": [
    "### Limpeza"
   ]
  },
  {
   "cell_type": "code",
   "execution_count": null,
   "id": "1e5431d7-1a67-450a-88e6-9b433a6edcd7",
   "metadata": {},
   "outputs": [],
   "source": [
    "#############################\n",
    "# Dia\n",
    "# dia.csv\n",
    "#############################\n",
    "\n",
    "dia_in_filepath = f\"{folder}/dia.csv\"\n",
    "dia_ou_filepath = f\"{folder}/bd_dia.csv\"\n",
    "\n",
    "df = pd.read_csv(\n",
    "    dia_in_filepath,\n",
    "    sep=\";\",\n",
    "    keep_default_na=False,\n",
    "    encoding=\"latin1\",\n",
    "    dtype=object\n",
    ")\n",
    "\n",
    "df.columns = [\n",
    "    \"numero_processo\",\n",
    "    \"numero_registro_oferta\",\n",
    "    \"tipo_oferta\",\n",
    "    \"tipo_componente_oferta_mista\",\n",
    "    \"tipo_ativo\",\n",
    "    \"cnpj_emissor\",\n",
    "    \"nome_emissor\",\n",
    "    \"cnpj_lider\",\n",
    "    \"nome_lider\",\n",
    "    \"nome_vendedor\",\n",
    "    \"cnpj_ofertante\",\n",
    "    \"nome_ofertante\",\n",
    "    \"rito_oferta\",\n",
    "    \"modalidade_registro_oferta\",\n",
    "    \"modalidade_dispensa_oferta\",\n",
    "    \"data_abertura_processo\",\n",
    "    \"data_protocolo\",\n",
    "    \"data_dispensa_oferta\",\n",
    "    \"data_registro_oferta\",\n",
    "    \"data_encerramento_oferta\",\n",
    "    \"emissao\",\n",
    "    \"classe_ativo\",\n",
    "    \"serie\",\n",
    "    \"especie_ativo\",\n",
    "    \"forma_ativo\",\n",
    "    \"data_emissao\",\n",
    "    \"data_vencimento\",\n",
    "    \"quantidade_sem_lote_suplementar\",\n",
    "    \"quantidade_no_lote_suplementar\",\n",
    "    \"quantidade_total\",\n",
    "    \"preco_unitario\",\n",
    "    \"valor_total\",\n",
    "    \"oferta_inicial\",\n",
    "    \"oferta_incentivo_fiscal\",\n",
    "    \"oferta_regime_fiduciario\",\n",
    "    \"atualizacao_monetaria\",\n",
    "    \"juros\",\n",
    "    \"projeto_audiovisual\",\n",
    "]\n",
    "\n",
    "df.loc[(df[\"oferta_inicial\"] ==\"N\"), \"oferta_inicial\"] = \"Não\"\n",
    "df.loc[(df[\"oferta_inicial\"] ==\"S\"), \"oferta_inicial\"] = \"Sim\"\n",
    "\n",
    "df.loc[(df[\"oferta_incentivo_fiscal\"] ==\"N\"), \"oferta_incentivo_fiscal\"] = \"Não\"\n",
    "df.loc[(df[\"oferta_incentivo_fiscal\"] ==\"S\"), \"oferta_incentivo_fiscal\"] = \"Sim\"\n",
    "\n",
    "df.loc[(df[\"oferta_regime_fiduciario\"] ==\"N\"), \"oferta_regime_fiduciario\"] = \"Não\"\n",
    "df.loc[(df[\"oferta_regime_fiduciario\"] ==\"S\"), \"oferta_regime_fiduciario\"] = \"Sim\"\n",
    "\n",
    "df.to_csv(dia_ou_filepath, index=False)"
   ]
  },
  {
   "cell_type": "markdown",
   "id": "b6b3b172-10e4-40e5-9da7-4b4468159e64",
   "metadata": {},
   "source": [
    "### Upload\n",
    "Adaptado do código em `basedosdados_template` por Diego Oliveira"
   ]
  },
  {
   "cell_type": "code",
   "execution_count": null,
   "id": "0acc4b2f-4011-46d5-9ebf-d583b3920de5",
   "metadata": {},
   "outputs": [],
   "source": [
    "def upload_to_gcs(dataset_id: str, table_id: str, path: Union[str, Path]) -> None:\n",
    "    \"\"\"Upload a bunch of CSVs to Google Cloud Storage using basedosdados library\"\"\"\n",
    "    tb = bd.Table(dataset_id=dataset_id, table_id=table_id)\n",
    "    st = bd.Storage(dataset_id=dataset_id, table_id=table_id)\n",
    "\n",
    "    if tb.table_exists(mode=\"staging\"):\n",
    "        tb.append(\n",
    "            filepath=path,\n",
    "            if_exists=\"replace\",\n",
    "        )\n",
    "\n",
    "        log((f\"Successfully uploaded {path} to \"\n",
    "             f\"{tb.bucket_name}.staging.{dataset_id}.{table_id}\"))\n",
    "    else:\n",
    "        log((\"Table does not exist in STAGING, need to create it in local first.\\n\"\n",
    "             \"Create and publish the table in BigQuery first.\"))"
   ]
  },
  {
   "cell_type": "code",
   "execution_count": null,
   "id": "e841c853-b9b3-423b-b1db-3f378bb78629",
   "metadata": {},
   "outputs": [],
   "source": [
    "upload_to_gcs(\"br_cvm_oferta_publica_distribuicao\", \"dia\", dia_ou_filepath)"
   ]
  },
  {
   "cell_type": "markdown",
   "id": "bd812ffd-8c7d-43af-b1ca-4cad51c16311",
   "metadata": {},
   "source": [
    "### Epílogo"
   ]
  },
  {
   "cell_type": "code",
   "execution_count": null,
   "id": "f01c8643-9015-4114-be63-ccaf33f83201",
   "metadata": {},
   "outputs": [],
   "source": [
    "shutil.rmtree(folder)"
   ]
  },
  {
   "cell_type": "code",
   "execution_count": null,
   "id": "6d30765b-f25a-47b1-baa8-11f65b2e550b",
   "metadata": {},
   "outputs": [],
   "source": []
  }
 ],
 "metadata": {
  "kernelspec": {
   "display_name": "Python 3 (ipykernel)",
   "language": "python",
   "name": "python3"
  },
  "language_info": {
   "codemirror_mode": {
    "name": "ipython",
    "version": 3
   },
   "file_extension": ".py",
   "mimetype": "text/x-python",
   "name": "python",
   "nbconvert_exporter": "python",
   "pygments_lexer": "ipython3",
   "version": "3.10.0"
  }
 },
 "nbformat": 4,
 "nbformat_minor": 5
}
