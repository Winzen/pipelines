{
 "cells": [
  {
   "cell_type": "code",
   "execution_count": 8,
   "metadata": {},
   "outputs": [],
   "source": [
    "import polars as pl\n",
    "import pandas as pd \n",
    "import os\n",
    "import re\n",
    "import glob\n",
    "from urllib.request import urlopen, urlretrieve\n",
    "from zipfile import ZipFile\n",
    "from rarfile import RarFile\n",
    "from bs4 import BeautifulSoup\n",
    "import requests"
   ]
  },
  {
   "cell_type": "code",
   "execution_count": 87,
   "metadata": {},
   "outputs": [],
   "source": [
    "file = '../files/2022/frota_por_uf_e_tipo_de_veículo_2-2022.xls'\n",
    "filename = os.path.split(file)[1]"
   ]
  },
  {
   "cell_type": "code",
   "execution_count": 101,
   "metadata": {},
   "outputs": [],
   "source": [
    "df = pd.read_excel(file)\n"
   ]
  },
  {
   "cell_type": "code",
   "execution_count": 104,
   "metadata": {},
   "outputs": [],
   "source": [
    "\n",
    "def guess_header(df: pd.DataFrame, max_header_guess: int = 4) -> int:\n",
    "    header_guess = 0\n",
    "    while header_guess < max_header_guess:\n",
    "        # Iffy logic, but essentially: if all rows of the column are strings, then this is a good candidate for a header.\n",
    "        if all(df.iloc[header_guess].apply(lambda x: isinstance(x, str))):\n",
    "            return header_guess\n",
    "            \n",
    "        header_guess += 1\n",
    "    return 0 # If nothing is ever found until the max, let's just assume it's the first row as per usual. \n",
    "\n",
    "def change_df_header(df: pd.DataFrame, header_row: int) -> pd.DataFrame:\n",
    "    new_header = df.iloc[header_row]\n",
    "    new_df = df[(header_row+1):].reset_index(drop=True)\n",
    "    new_df.rename(columns=new_header, inplace=True)\n",
    "    return new_df\n",
    "\n",
    "def get_year_month_from_filename(filename: str) -> tuple[int, int]:\n",
    "    match = re.search(r\"(\\w+)_(\\d{1,2})-(\\d{4})\\.(xls|xlsx)$\"\n",
    "\n",
    ", filename)\n",
    "\n",
    "    if match:\n",
    "        month = match.group(2)\n",
    "        year = match.group(3)\n",
    "        return month, year\n",
    "    else:\n",
    "        raise ValueError(\"No match found\")"
   ]
  },
  {
   "cell_type": "code",
   "execution_count": 57,
   "metadata": {},
   "outputs": [],
   "source": [
    "DICT_UFS = {\n",
    "    \"AC\": \"Acre\",\n",
    "    \"AL\": \"Alagoas\",\n",
    "    \"AP\": \"Amapá\",\n",
    "    \"AM\": \"Amazonas\",\n",
    "    \"BA\": \"Bahia\",\n",
    "    \"CE\": \"Ceará\",\n",
    "    \"DF\": \"Distrito Federal\",\n",
    "    \"ES\": \"Espírito Santo\",\n",
    "    \"GO\": \"Goiás\",\n",
    "    \"MA\": \"Maranhão\",\n",
    "    \"MT\": \"Mato Grosso\",\n",
    "    \"MS\": \"Mato Grosso do Sul\",\n",
    "    \"MG\": \"Minas Gerais\",\n",
    "    \"PA\": \"Pará\",\n",
    "    \"PB\": \"Paraíba\",\n",
    "    \"PR\": \"Paraná\",\n",
    "    \"PE\": \"Pernambuco\",\n",
    "    \"PI\": \"Piauí\",\n",
    "    \"RJ\": \"Rio de Janeiro\",\n",
    "    \"RN\": \"Rio Grande do Norte\",\n",
    "    \"RS\": \"Rio Grande do Sul\",\n",
    "    \"RO\": \"Rondônia\",\n",
    "    \"RR\": \"Roraima\",\n",
    "    \"SC\": \"Santa Catarina\",\n",
    "    \"SP\": \"São Paulo\",\n",
    "    \"SE\": \"Sergipe\",\n",
    "    \"TO\": \"Tocantins\",\n",
    "}"
   ]
  },
  {
   "cell_type": "code",
   "execution_count": 52,
   "metadata": {},
   "outputs": [],
   "source": [
    "new_df  = change_df_header(df, guess_header(df))"
   ]
  },
  {
   "attachments": {},
   "cell_type": "markdown",
   "metadata": {},
   "source": [
    "Tratamento ad hoc necessário\n"
   ]
  },
  {
   "cell_type": "code",
   "execution_count": 120,
   "metadata": {},
   "outputs": [],
   "source": [
    "new_df.rename(columns={ new_df.columns[0]: \"sigla_uf\" }, inplace= True) # Rename for ease of use.\n",
    "new_df.sigla_uf = new_df.sigla_uf.str.strip() # Remove whitespace.\n",
    "clean_df = new_df[new_df.sigla_uf.isin(DICT_UFS.values())].reset_index(drop = True) # Now we get all the actual RELEVANT uf data.\n",
    "month, year = get_year_month_from_filename(filename)"
   ]
  },
  {
   "cell_type": "code",
   "execution_count": 126,
   "metadata": {},
   "outputs": [],
   "source": [
    "clean_pl_df = pl.from_pandas(clean_df).lazy()\n",
    "# Add year and month\n",
    "clean_pl_df = clean_pl_df.with_columns(pl.lit(year, dtype = pl.Int64).alias('ano'), pl.lit(month, dtype = pl.Int64).alias('mes'))"
   ]
  },
  {
   "cell_type": "code",
   "execution_count": 127,
   "metadata": {},
   "outputs": [],
   "source": [
    "long_pl_df = clean_pl_df.melt(id_vars = ['ano', 'mes', 'sigla_uf'], variable_name= 'tipo_veiculo', value_name= 'quantidade') # Long format."
   ]
  },
  {
   "cell_type": "code",
   "execution_count": 129,
   "metadata": {},
   "outputs": [
    {
     "data": {
      "text/html": [
       "<div><style>\n",
       ".dataframe > thead > tr > th,\n",
       ".dataframe > tbody > tr > td {\n",
       "  text-align: right;\n",
       "}\n",
       "</style>\n",
       "<small>shape: (594, 5)</small><table border=\"1\" class=\"dataframe\"><thead><tr><th>ano</th><th>mes</th><th>sigla_uf</th><th>tipo_veiculo</th><th>quantidade</th></tr><tr><td>i64</td><td>i64</td><td>str</td><td>str</td><td>i64</td></tr></thead><tbody><tr><td>2022</td><td>2</td><td>&quot;Acre&quot;</td><td>&quot;TOTAL&quot;</td><td>321989</td></tr><tr><td>2022</td><td>2</td><td>&quot;Amapá&quot;</td><td>&quot;TOTAL&quot;</td><td>225303</td></tr><tr><td>2022</td><td>2</td><td>&quot;Amazonas&quot;</td><td>&quot;TOTAL&quot;</td><td>1020046</td></tr><tr><td>2022</td><td>2</td><td>&quot;Pará&quot;</td><td>&quot;TOTAL&quot;</td><td>2367668</td></tr><tr><td>2022</td><td>2</td><td>&quot;Rondônia&quot;</td><td>&quot;TOTAL&quot;</td><td>1118903</td></tr><tr><td>2022</td><td>2</td><td>&quot;Roraima&quot;</td><td>&quot;TOTAL&quot;</td><td>252315</td></tr><tr><td>2022</td><td>2</td><td>&quot;Tocantins&quot;</td><td>&quot;TOTAL&quot;</td><td>796159</td></tr><tr><td>2022</td><td>2</td><td>&quot;Alagoas&quot;</td><td>&quot;TOTAL&quot;</td><td>988002</td></tr><tr><td>2022</td><td>2</td><td>&quot;Bahia&quot;</td><td>&quot;TOTAL&quot;</td><td>4720073</td></tr><tr><td>2022</td><td>2</td><td>&quot;Ceará&quot;</td><td>&quot;TOTAL&quot;</td><td>3529429</td></tr><tr><td>2022</td><td>2</td><td>&quot;Maranhão&quot;</td><td>&quot;TOTAL&quot;</td><td>1950201</td></tr><tr><td>2022</td><td>2</td><td>&quot;Paraíba&quot;</td><td>&quot;TOTAL&quot;</td><td>1477707</td></tr><tr><td>&hellip;</td><td>&hellip;</td><td>&hellip;</td><td>&hellip;</td><td>&hellip;</td></tr><tr><td>2022</td><td>2</td><td>&quot;Sergipe&quot;</td><td>&quot;UTILITÁRIO&quot;</td><td>7459</td></tr><tr><td>2022</td><td>2</td><td>&quot;Espírito Santo…</td><td>&quot;UTILITÁRIO&quot;</td><td>29102</td></tr><tr><td>2022</td><td>2</td><td>&quot;Minas Gerais&quot;</td><td>&quot;UTILITÁRIO&quot;</td><td>116020</td></tr><tr><td>2022</td><td>2</td><td>&quot;Rio de Janeiro…</td><td>&quot;UTILITÁRIO&quot;</td><td>88531</td></tr><tr><td>2022</td><td>2</td><td>&quot;São Paulo&quot;</td><td>&quot;UTILITÁRIO&quot;</td><td>410642</td></tr><tr><td>2022</td><td>2</td><td>&quot;Paraná&quot;</td><td>&quot;UTILITÁRIO&quot;</td><td>93204</td></tr><tr><td>2022</td><td>2</td><td>&quot;Rio Grande do …</td><td>&quot;UTILITÁRIO&quot;</td><td>93702</td></tr><tr><td>2022</td><td>2</td><td>&quot;Santa Catarina…</td><td>&quot;UTILITÁRIO&quot;</td><td>105113</td></tr><tr><td>2022</td><td>2</td><td>&quot;Distrito Feder…</td><td>&quot;UTILITÁRIO&quot;</td><td>39414</td></tr><tr><td>2022</td><td>2</td><td>&quot;Goiás&quot;</td><td>&quot;UTILITÁRIO&quot;</td><td>43899</td></tr><tr><td>2022</td><td>2</td><td>&quot;Mato Grosso&quot;</td><td>&quot;UTILITÁRIO&quot;</td><td>24451</td></tr><tr><td>2022</td><td>2</td><td>&quot;Mato Grosso do…</td><td>&quot;UTILITÁRIO&quot;</td><td>19279</td></tr></tbody></table></div>"
      ],
      "text/plain": [
       "shape: (594, 5)\n",
       "┌──────┬─────┬────────────────────┬──────────────┬────────────┐\n",
       "│ ano  ┆ mes ┆ sigla_uf           ┆ tipo_veiculo ┆ quantidade │\n",
       "│ ---  ┆ --- ┆ ---                ┆ ---          ┆ ---        │\n",
       "│ i64  ┆ i64 ┆ str                ┆ str          ┆ i64        │\n",
       "╞══════╪═════╪════════════════════╪══════════════╪════════════╡\n",
       "│ 2022 ┆ 2   ┆ Acre               ┆ TOTAL        ┆ 321989     │\n",
       "│ 2022 ┆ 2   ┆ Amapá              ┆ TOTAL        ┆ 225303     │\n",
       "│ 2022 ┆ 2   ┆ Amazonas           ┆ TOTAL        ┆ 1020046    │\n",
       "│ 2022 ┆ 2   ┆ Pará               ┆ TOTAL        ┆ 2367668    │\n",
       "│ …    ┆ …   ┆ …                  ┆ …            ┆ …          │\n",
       "│ 2022 ┆ 2   ┆ Distrito Federal   ┆ UTILITÁRIO   ┆ 39414      │\n",
       "│ 2022 ┆ 2   ┆ Goiás              ┆ UTILITÁRIO   ┆ 43899      │\n",
       "│ 2022 ┆ 2   ┆ Mato Grosso        ┆ UTILITÁRIO   ┆ 24451      │\n",
       "│ 2022 ┆ 2   ┆ Mato Grosso do Sul ┆ UTILITÁRIO   ┆ 19279      │\n",
       "└──────┴─────┴────────────────────┴──────────────┴────────────┘"
      ]
     },
     "execution_count": 129,
     "metadata": {},
     "output_type": "execute_result"
    }
   ],
   "source": [
    "long_pl_df.collect()"
   ]
  }
 ],
 "metadata": {
  "kernelspec": {
   "display_name": "pipelines-Fyk5jlG0-py3.10",
   "language": "python",
   "name": "python3"
  },
  "language_info": {
   "codemirror_mode": {
    "name": "ipython",
    "version": 3
   },
   "file_extension": ".py",
   "mimetype": "text/x-python",
   "name": "python",
   "nbconvert_exporter": "python",
   "pygments_lexer": "ipython3",
   "version": "3.10.6"
  },
  "orig_nbformat": 4
 },
 "nbformat": 4,
 "nbformat_minor": 2
}
