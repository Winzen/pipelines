{
 "cells": [
  {
   "cell_type": "code",
   "execution_count": 2,
   "metadata": {},
   "outputs": [
    {
     "ename": "ImportError",
     "evalue": "cannot import name 'get_city_name_ibge' from 'utils' (/home/tamir/basedosdados/pipelines/br_denatran_frota/code/utils.py)",
     "output_type": "error",
     "traceback": [
      "\u001b[0;31m---------------------------------------------------------------------------\u001b[0m",
      "\u001b[0;31mImportError\u001b[0m                               Traceback (most recent call last)",
      "Cell \u001b[0;32mIn[2], line 11\u001b[0m\n\u001b[1;32m      9\u001b[0m \u001b[39mfrom\u001b[39;00m \u001b[39mbs4\u001b[39;00m \u001b[39mimport\u001b[39;00m BeautifulSoup\n\u001b[1;32m     10\u001b[0m \u001b[39mimport\u001b[39;00m \u001b[39mdifflib\u001b[39;00m\n\u001b[0;32m---> 11\u001b[0m \u001b[39mfrom\u001b[39;00m \u001b[39mutils\u001b[39;00m \u001b[39mimport\u001b[39;00m guess_header, change_df_header, get_year_month_from_filename, verify_total, get_city_name_ibge, match_ibge\n\u001b[1;32m     12\u001b[0m \u001b[39mfrom\u001b[39;00m \u001b[39mconstants\u001b[39;00m \u001b[39mimport\u001b[39;00m DICT_UFS, REGRAS\n",
      "\u001b[0;31mImportError\u001b[0m: cannot import name 'get_city_name_ibge' from 'utils' (/home/tamir/basedosdados/pipelines/br_denatran_frota/code/utils.py)"
     ]
    }
   ],
   "source": [
    "import polars as pl\n",
    "import pandas as pd \n",
    "import os\n",
    "import re\n",
    "import glob\n",
    "from urllib.request import urlopen, urlretrieve\n",
    "from zipfile import ZipFile\n",
    "from rarfile import RarFile\n",
    "from bs4 import BeautifulSoup\n",
    "import difflib\n",
    "from br_denatran_frota.utils import guess_header, change_df_header, get_year_month_from_filename, verify_total, get_city_name_ibge, match_ibge\n",
    "from constants import DICT_UFS, REGRAS"
   ]
  },
  {
   "cell_type": "code",
   "execution_count": null,
   "metadata": {},
   "outputs": [],
   "source": [
    "\n",
    "#treat_uf_tipo('../files/2022/frota_por_uf_e_tipo_de_veículo_2-2022.xls')"
   ]
  },
  {
   "cell_type": "code",
   "execution_count": null,
   "metadata": {},
   "outputs": [],
   "source": [
    "from download_frota import download_frota"
   ]
  },
  {
   "cell_type": "code",
   "execution_count": null,
   "metadata": {},
   "outputs": [
    {
     "name": "stdout",
     "output_type": "stream",
     "text": [
      "Download of frota_por_uf_e_tipo_de_veículo_2-2022.xls complete\n",
      "Download of frota_por_município_e_tipo_2-2022.xls complete\n"
     ]
    }
   ],
   "source": [
    "download_frota(2, 2022)"
   ]
  },
  {
   "cell_type": "code",
   "execution_count": null,
   "metadata": {},
   "outputs": [
    {
     "name": "stderr",
     "output_type": "stream",
     "text": [
      "Downloading: 100%|██████████| 5570/5570 [00:00<00:00, 12793.96rows/s]\n"
     ]
    }
   ],
   "source": [
    "import basedosdados as bd \n",
    "municipios_query = \"\"\"SELECT nome, id_municipio, sigla_uf FROM `basedosdados.br_bd_diretorios_brasil.municipio`\n",
    "\"\"\"\n",
    "bd_municipios = bd.read_sql(municipios_query, 'tamir-pipelines')\n",
    "bd_municipios = pl.from_pandas(bd_municipios)"
   ]
  },
  {
   "cell_type": "code",
   "execution_count": null,
   "metadata": {},
   "outputs": [],
   "source": [
    "file = '../files/2022/frota_por_município_e_tipo_2-2022.xls'\n",
    "filename = os.path.split(file)[1]\n",
    "df = pd.read_excel(file)\n",
    "new_df  = change_df_header(df, guess_header(df))\n",
    "new_df.rename(columns={ new_df.columns[0]: \"sigla_uf\" , new_df.columns[1]: 'nome_denatran'}, inplace= True) # Rename for ease of use.\n",
    "new_df.sigla_uf = new_df.sigla_uf.str.strip() # Remove whitespace.\n",
    "new_df = pl.from_pandas(new_df)"
   ]
  },
  {
   "cell_type": "code",
   "execution_count": null,
   "metadata": {},
   "outputs": [],
   "source": [
    "uf = 'RN'"
   ]
  },
  {
   "cell_type": "code",
   "execution_count": null,
   "metadata": {},
   "outputs": [],
   "source": [
    "# for uf in DICT_UFS:\n",
    "denatran_uf = new_df.filter(pl.col('sigla_uf') == uf)\n",
    "ibge_uf = bd_municipios.filter(pl.col('sigla_uf') == uf)\n",
    "ibge_uf = ibge_uf.with_columns(pl.col('nome').str.to_lowercase())"
   ]
  },
  {
   "cell_type": "code",
   "execution_count": null,
   "metadata": {},
   "outputs": [
    {
     "data": {
      "text/html": [
       "<div><style>\n",
       ".dataframe > thead > tr > th,\n",
       ".dataframe > tbody > tr > td {\n",
       "  text-align: right;\n",
       "}\n",
       "</style>\n",
       "<small>shape: (167, 24)</small><table border=\"1\" class=\"dataframe\"><thead><tr><th>sigla_uf</th><th>nome_denatran</th><th>TOTAL</th><th>AUTOMOVEL</th><th>BONDE</th><th>CAMINHAO</th><th>CAMINHAO TRATOR</th><th>CAMINHONETE</th><th>CAMIONETA</th><th>CHASSI PLATAF</th><th>CICLOMOTOR</th><th>MICRO-ONIBUS</th><th>MOTOCICLETA</th><th>MOTONETA</th><th>ONIBUS</th><th>QUADRICICLO</th><th>REBOQUE</th><th>SEMI-REBOQUE</th><th>SIDE-CAR</th><th>OUTROS</th><th>TRATOR ESTEI</th><th>TRATOR RODAS</th><th>TRICICLO</th><th>UTILITARIO</th></tr><tr><td>str</td><td>str</td><td>i64</td><td>i64</td><td>i64</td><td>i64</td><td>i64</td><td>i64</td><td>i64</td><td>i64</td><td>i64</td><td>i64</td><td>i64</td><td>i64</td><td>i64</td><td>i64</td><td>i64</td><td>i64</td><td>i64</td><td>i64</td><td>i64</td><td>i64</td><td>i64</td><td>i64</td></tr></thead><tbody><tr><td>&quot;RN&quot;</td><td>&quot;ACARI&quot;</td><td>4035</td><td>1394</td><td>0</td><td>122</td><td>7</td><td>279</td><td>91</td><td>0</td><td>73</td><td>13</td><td>1684</td><td>286</td><td>16</td><td>0</td><td>31</td><td>8</td><td>0</td><td>15</td><td>0</td><td>0</td><td>4</td><td>12</td></tr><tr><td>&quot;RN&quot;</td><td>&quot;AFONSO BEZERRA…</td><td>1867</td><td>730</td><td>0</td><td>37</td><td>1</td><td>153</td><td>30</td><td>0</td><td>2</td><td>10</td><td>807</td><td>65</td><td>17</td><td>0</td><td>6</td><td>1</td><td>0</td><td>4</td><td>0</td><td>0</td><td>0</td><td>4</td></tr><tr><td>&quot;RN&quot;</td><td>&quot;AGUA NOVA&quot;</td><td>1057</td><td>260</td><td>0</td><td>16</td><td>0</td><td>42</td><td>9</td><td>0</td><td>2</td><td>8</td><td>613</td><td>94</td><td>2</td><td>0</td><td>3</td><td>1</td><td>0</td><td>2</td><td>0</td><td>0</td><td>0</td><td>5</td></tr><tr><td>&quot;RN&quot;</td><td>&quot;ALEXANDRIA&quot;</td><td>6122</td><td>2224</td><td>0</td><td>146</td><td>19</td><td>550</td><td>62</td><td>0</td><td>2</td><td>50</td><td>2686</td><td>216</td><td>18</td><td>0</td><td>48</td><td>34</td><td>0</td><td>25</td><td>0</td><td>0</td><td>1</td><td>41</td></tr><tr><td>&quot;RN&quot;</td><td>&quot;ALMINO AFONSO&quot;</td><td>1621</td><td>465</td><td>0</td><td>24</td><td>1</td><td>95</td><td>15</td><td>0</td><td>4</td><td>9</td><td>843</td><td>135</td><td>3</td><td>0</td><td>10</td><td>4</td><td>0</td><td>6</td><td>0</td><td>0</td><td>0</td><td>7</td></tr><tr><td>&quot;RN&quot;</td><td>&quot;ALTO DO RODRIG…</td><td>5411</td><td>1898</td><td>0</td><td>266</td><td>7</td><td>408</td><td>73</td><td>1</td><td>15</td><td>22</td><td>2196</td><td>367</td><td>34</td><td>0</td><td>45</td><td>13</td><td>0</td><td>28</td><td>0</td><td>3</td><td>1</td><td>34</td></tr><tr><td>&quot;RN&quot;</td><td>&quot;ANGICOS&quot;</td><td>4189</td><td>1400</td><td>0</td><td>139</td><td>5</td><td>424</td><td>72</td><td>0</td><td>18</td><td>21</td><td>1847</td><td>153</td><td>20</td><td>0</td><td>40</td><td>9</td><td>0</td><td>14</td><td>0</td><td>0</td><td>1</td><td>26</td></tr><tr><td>&quot;RN&quot;</td><td>&quot;ANTONIO MARTIN…</td><td>2016</td><td>550</td><td>0</td><td>46</td><td>0</td><td>122</td><td>20</td><td>0</td><td>2</td><td>13</td><td>1115</td><td>121</td><td>5</td><td>0</td><td>6</td><td>0</td><td>0</td><td>5</td><td>0</td><td>0</td><td>0</td><td>11</td></tr><tr><td>&quot;RN&quot;</td><td>&quot;APODI&quot;</td><td>17771</td><td>4506</td><td>0</td><td>512</td><td>59</td><td>1051</td><td>123</td><td>0</td><td>361</td><td>54</td><td>8072</td><td>2683</td><td>63</td><td>0</td><td>71</td><td>46</td><td>0</td><td>84</td><td>0</td><td>0</td><td>1</td><td>85</td></tr><tr><td>&quot;RN&quot;</td><td>&quot;AREIA BRANCA&quot;</td><td>9801</td><td>3212</td><td>0</td><td>202</td><td>41</td><td>544</td><td>128</td><td>0</td><td>241</td><td>47</td><td>3191</td><td>1827</td><td>77</td><td>0</td><td>62</td><td>92</td><td>0</td><td>52</td><td>0</td><td>0</td><td>7</td><td>78</td></tr><tr><td>&quot;RN&quot;</td><td>&quot;ARES&quot;</td><td>3098</td><td>1243</td><td>0</td><td>91</td><td>3</td><td>185</td><td>44</td><td>0</td><td>59</td><td>13</td><td>1117</td><td>81</td><td>49</td><td>0</td><td>138</td><td>43</td><td>0</td><td>4</td><td>0</td><td>0</td><td>0</td><td>28</td></tr><tr><td>&quot;RN&quot;</td><td>&quot;ASSU&quot;</td><td>26667</td><td>8400</td><td>0</td><td>960</td><td>57</td><td>1668</td><td>322</td><td>0</td><td>1416</td><td>75</td><td>10625</td><td>2406</td><td>127</td><td>0</td><td>219</td><td>97</td><td>0</td><td>97</td><td>0</td><td>0</td><td>12</td><td>186</td></tr><tr><td>&hellip;</td><td>&hellip;</td><td>&hellip;</td><td>&hellip;</td><td>&hellip;</td><td>&hellip;</td><td>&hellip;</td><td>&hellip;</td><td>&hellip;</td><td>&hellip;</td><td>&hellip;</td><td>&hellip;</td><td>&hellip;</td><td>&hellip;</td><td>&hellip;</td><td>&hellip;</td><td>&hellip;</td><td>&hellip;</td><td>&hellip;</td><td>&hellip;</td><td>&hellip;</td><td>&hellip;</td><td>&hellip;</td><td>&hellip;</td></tr><tr><td>&quot;RN&quot;</td><td>&quot;TIBAU&quot;</td><td>1829</td><td>693</td><td>0</td><td>53</td><td>7</td><td>150</td><td>19</td><td>0</td><td>60</td><td>12</td><td>608</td><td>129</td><td>40</td><td>0</td><td>17</td><td>5</td><td>0</td><td>21</td><td>0</td><td>1</td><td>0</td><td>14</td></tr><tr><td>&quot;RN&quot;</td><td>&quot;TIBAU DO SUL&quot;</td><td>4676</td><td>1911</td><td>0</td><td>71</td><td>0</td><td>492</td><td>197</td><td>0</td><td>124</td><td>54</td><td>1375</td><td>198</td><td>28</td><td>0</td><td>50</td><td>11</td><td>0</td><td>9</td><td>0</td><td>0</td><td>0</td><td>156</td></tr><tr><td>&quot;RN&quot;</td><td>&quot;TIMBAUBA DOS B…</td><td>697</td><td>212</td><td>0</td><td>12</td><td>0</td><td>60</td><td>13</td><td>0</td><td>6</td><td>9</td><td>324</td><td>35</td><td>7</td><td>0</td><td>6</td><td>2</td><td>0</td><td>3</td><td>0</td><td>0</td><td>0</td><td>8</td></tr><tr><td>&quot;RN&quot;</td><td>&quot;TOUROS&quot;</td><td>8315</td><td>2463</td><td>0</td><td>186</td><td>5</td><td>886</td><td>123</td><td>0</td><td>134</td><td>39</td><td>3945</td><td>303</td><td>63</td><td>0</td><td>38</td><td>17</td><td>0</td><td>7</td><td>0</td><td>1</td><td>3</td><td>102</td></tr><tr><td>&quot;RN&quot;</td><td>&quot;TRIUNFO POTIGU…</td><td>898</td><td>237</td><td>0</td><td>22</td><td>0</td><td>86</td><td>11</td><td>0</td><td>4</td><td>7</td><td>497</td><td>24</td><td>3</td><td>0</td><td>5</td><td>0</td><td>0</td><td>1</td><td>0</td><td>0</td><td>0</td><td>1</td></tr><tr><td>&quot;RN&quot;</td><td>&quot;UMARIZAL&quot;</td><td>3879</td><td>1073</td><td>0</td><td>81</td><td>16</td><td>275</td><td>27</td><td>0</td><td>7</td><td>27</td><td>1935</td><td>334</td><td>8</td><td>0</td><td>29</td><td>24</td><td>0</td><td>17</td><td>0</td><td>0</td><td>1</td><td>25</td></tr><tr><td>&quot;RN&quot;</td><td>&quot;UPANEMA&quot;</td><td>4127</td><td>1149</td><td>0</td><td>115</td><td>12</td><td>285</td><td>27</td><td>0</td><td>59</td><td>13</td><td>2011</td><td>378</td><td>16</td><td>0</td><td>17</td><td>11</td><td>0</td><td>22</td><td>0</td><td>0</td><td>0</td><td>12</td></tr><tr><td>&quot;RN&quot;</td><td>&quot;VARZEA&quot;</td><td>1230</td><td>470</td><td>0</td><td>21</td><td>0</td><td>62</td><td>26</td><td>0</td><td>5</td><td>3</td><td>582</td><td>33</td><td>8</td><td>0</td><td>9</td><td>5</td><td>0</td><td>4</td><td>0</td><td>0</td><td>0</td><td>2</td></tr><tr><td>&quot;RN&quot;</td><td>&quot;VENHA-VER&quot;</td><td>850</td><td>270</td><td>0</td><td>17</td><td>0</td><td>78</td><td>9</td><td>0</td><td>0</td><td>7</td><td>443</td><td>12</td><td>7</td><td>0</td><td>2</td><td>0</td><td>0</td><td>0</td><td>0</td><td>0</td><td>0</td><td>5</td></tr><tr><td>&quot;RN&quot;</td><td>&quot;VERA CRUZ&quot;</td><td>3989</td><td>1238</td><td>0</td><td>211</td><td>4</td><td>371</td><td>49</td><td>0</td><td>5</td><td>11</td><td>1967</td><td>59</td><td>26</td><td>0</td><td>13</td><td>6</td><td>0</td><td>1</td><td>0</td><td>0</td><td>1</td><td>27</td></tr><tr><td>&quot;RN&quot;</td><td>&quot;VICOSA&quot;</td><td>515</td><td>162</td><td>0</td><td>8</td><td>1</td><td>27</td><td>6</td><td>0</td><td>0</td><td>1</td><td>285</td><td>16</td><td>2</td><td>0</td><td>1</td><td>1</td><td>0</td><td>4</td><td>0</td><td>0</td><td>0</td><td>1</td></tr><tr><td>&quot;RN&quot;</td><td>&quot;VILA FLOR&quot;</td><td>847</td><td>298</td><td>0</td><td>10</td><td>2</td><td>37</td><td>15</td><td>0</td><td>18</td><td>2</td><td>433</td><td>19</td><td>2</td><td>0</td><td>1</td><td>2</td><td>0</td><td>1</td><td>0</td><td>0</td><td>0</td><td>7</td></tr></tbody></table></div>"
      ],
      "text/plain": [
       "shape: (167, 24)\n",
       "┌──────────┬────────────┬───────┬───────────┬───┬────────────┬────────────┬──────────┬────────────┐\n",
       "│ sigla_uf ┆ nome_denat ┆ TOTAL ┆ AUTOMOVEL ┆ … ┆ TRATOR     ┆ TRATOR     ┆ TRICICLO ┆ UTILITARIO │\n",
       "│ ---      ┆ ran        ┆ ---   ┆ ---       ┆   ┆ ESTEI      ┆ RODAS      ┆ ---      ┆ ---        │\n",
       "│ str      ┆ ---        ┆ i64   ┆ i64       ┆   ┆ ---        ┆ ---        ┆ i64      ┆ i64        │\n",
       "│          ┆ str        ┆       ┆           ┆   ┆ i64        ┆ i64        ┆          ┆            │\n",
       "╞══════════╪════════════╪═══════╪═══════════╪═══╪════════════╪════════════╪══════════╪════════════╡\n",
       "│ RN       ┆ ACARI      ┆ 4035  ┆ 1394      ┆ … ┆ 0          ┆ 0          ┆ 4        ┆ 12         │\n",
       "│ RN       ┆ AFONSO     ┆ 1867  ┆ 730       ┆ … ┆ 0          ┆ 0          ┆ 0        ┆ 4          │\n",
       "│          ┆ BEZERRA    ┆       ┆           ┆   ┆            ┆            ┆          ┆            │\n",
       "│ RN       ┆ AGUA NOVA  ┆ 1057  ┆ 260       ┆ … ┆ 0          ┆ 0          ┆ 0        ┆ 5          │\n",
       "│ RN       ┆ ALEXANDRIA ┆ 6122  ┆ 2224      ┆ … ┆ 0          ┆ 0          ┆ 1        ┆ 41         │\n",
       "│ …        ┆ …          ┆ …     ┆ …         ┆ … ┆ …          ┆ …          ┆ …        ┆ …          │\n",
       "│ RN       ┆ VENHA-VER  ┆ 850   ┆ 270       ┆ … ┆ 0          ┆ 0          ┆ 0        ┆ 5          │\n",
       "│ RN       ┆ VERA CRUZ  ┆ 3989  ┆ 1238      ┆ … ┆ 0          ┆ 0          ┆ 1        ┆ 27         │\n",
       "│ RN       ┆ VICOSA     ┆ 515   ┆ 162       ┆ … ┆ 0          ┆ 0          ┆ 0        ┆ 1          │\n",
       "│ RN       ┆ VILA FLOR  ┆ 847   ┆ 298       ┆ … ┆ 0          ┆ 0          ┆ 0        ┆ 7          │\n",
       "└──────────┴────────────┴───────┴───────────┴───┴────────────┴────────────┴──────────┴────────────┘"
      ]
     },
     "execution_count": 23,
     "metadata": {},
     "output_type": "execute_result"
    }
   ],
   "source": [
    "denatran_uf"
   ]
  },
  {
   "cell_type": "code",
   "execution_count": null,
   "metadata": {},
   "outputs": [],
   "source": [
    "\n",
    "x = denatran_uf['nome_denatran'].apply(get_city_name_ibge)\n",
    "denatran_uf = denatran_uf.with_columns(x.alias('suggested_nome_ibge'))"
   ]
  },
  {
   "cell_type": "code",
   "execution_count": null,
   "metadata": {},
   "outputs": [],
   "source": []
  },
  {
   "cell_type": "code",
   "execution_count": null,
   "metadata": {},
   "outputs": [
    {
     "ename": "ValueError",
     "evalue": "Os seguintes municípios falharam: \nASSU (RN)\n",
     "output_type": "error",
     "traceback": [
      "\u001b[0;31m---------------------------------------------------------------------------\u001b[0m",
      "\u001b[0;31mValueError\u001b[0m                                Traceback (most recent call last)",
      "Cell \u001b[0;32mIn[26], line 1\u001b[0m\n\u001b[0;32m----> 1\u001b[0m match_ibge(denatran_uf, ibge_uf)\n",
      "Cell \u001b[0;32mIn[25], line 9\u001b[0m, in \u001b[0;36mmatch_ibge\u001b[0;34m(denatran_uf, ibge_uf)\u001b[0m\n\u001b[1;32m      7\u001b[0m \u001b[39mfor\u001b[39;00m row \u001b[39min\u001b[39;00m mismatched_rows\u001b[39m.\u001b[39mrows(named \u001b[39m=\u001b[39m \u001b[39mTrue\u001b[39;00m):\n\u001b[1;32m      8\u001b[0m     error_message \u001b[39m+\u001b[39m\u001b[39m=\u001b[39m \u001b[39mf\u001b[39m\u001b[39m\"\u001b[39m\u001b[39m{\u001b[39;00mrow[\u001b[39m'\u001b[39m\u001b[39mnome_denatran\u001b[39m\u001b[39m'\u001b[39m]\u001b[39m}\u001b[39;00m\u001b[39m (\u001b[39m\u001b[39m{\u001b[39;00mrow[\u001b[39m'\u001b[39m\u001b[39msigla_uf\u001b[39m\u001b[39m'\u001b[39m]\u001b[39m}\u001b[39;00m\u001b[39m)\u001b[39m\u001b[39m\\n\u001b[39;00m\u001b[39m\"\u001b[39m\n\u001b[0;32m----> 9\u001b[0m \u001b[39mraise\u001b[39;00m \u001b[39mValueError\u001b[39;00m(error_message)\n",
      "\u001b[0;31mValueError\u001b[0m: Os seguintes municípios falharam: \nASSU (RN)\n"
     ]
    }
   ],
   "source": [
    "match_ibge(denatran_uf, ibge_uf)"
   ]
  },
  {
   "cell_type": "code",
   "execution_count": null,
   "metadata": {},
   "outputs": [],
   "source": [
    "nomes = ibge_uf['nome'].to_list()"
   ]
  },
  {
   "cell_type": "code",
   "execution_count": null,
   "metadata": {},
   "outputs": [],
   "source": []
  },
  {
   "cell_type": "code",
   "execution_count": null,
   "metadata": {},
   "outputs": [],
   "source": [
    "joined_df = denatran_uf.join(ibge_uf, left_on=['suggested_nome_ibge', 'sigla_uf'], right_on=['nome', 'sigla_uf'], how='left')\n",
    "\n",
    "mismatched = joined_df.filter(pl.col('id_municipio').is_null())"
   ]
  },
  {
   "cell_type": "code",
   "execution_count": null,
   "metadata": {},
   "outputs": [
    {
     "name": "stdout",
     "output_type": "stream",
     "text": [
      "    sigla_uf   nome_denatran  TOTAL  AUTOMOVEL  BONDE  CAMINHAO  \\\n",
      "0         RN           ACARI   4035       1394      0       122   \n",
      "1         RN  AFONSO BEZERRA   1867        730      0        37   \n",
      "2         RN       AGUA NOVA   1057        260      0        16   \n",
      "3         RN      ALEXANDRIA   6122       2224      0       146   \n",
      "4         RN   ALMINO AFONSO   1621        465      0        24   \n",
      "..       ...             ...    ...        ...    ...       ...   \n",
      "162       RN          VARZEA   1230        470      0        21   \n",
      "163       RN       VENHA-VER    850        270      0        17   \n",
      "164       RN       VERA CRUZ   3989       1238      0       211   \n",
      "165       RN          VICOSA    515        162      0         8   \n",
      "166       RN       VILA FLOR    847        298      0        10   \n",
      "\n",
      "     CAMINHAO TRATOR  CAMINHONETE  CAMIONETA  CHASSI PLATAF  ...  QUADRICICLO  \\\n",
      "0                  7          279         91              0  ...            0   \n",
      "1                  1          153         30              0  ...            0   \n",
      "2                  0           42          9              0  ...            0   \n",
      "3                 19          550         62              0  ...            0   \n",
      "4                  1           95         15              0  ...            0   \n",
      "..               ...          ...        ...            ...  ...          ...   \n",
      "162                0           62         26              0  ...            0   \n",
      "163                0           78          9              0  ...            0   \n",
      "164                4          371         49              0  ...            0   \n",
      "165                1           27          6              0  ...            0   \n",
      "166                2           37         15              0  ...            0   \n",
      "\n",
      "     REBOQUE  SEMI-REBOQUE  SIDE-CAR  OUTROS  TRATOR ESTEI  TRATOR RODAS  \\\n",
      "0         31             8         0      15             0             0   \n",
      "1          6             1         0       4             0             0   \n",
      "2          3             1         0       2             0             0   \n",
      "3         48            34         0      25             0             0   \n",
      "4         10             4         0       6             0             0   \n",
      "..       ...           ...       ...     ...           ...           ...   \n",
      "162        9             5         0       4             0             0   \n",
      "163        2             0         0       0             0             0   \n",
      "164       13             6         0       1             0             0   \n",
      "165        1             1         0       4             0             0   \n",
      "166        1             2         0       1             0             0   \n",
      "\n",
      "     TRICICLO  UTILITARIO  suggested_nome_ibge  \n",
      "0           4          12                acari  \n",
      "1           0           4       afonso bezerra  \n",
      "2           0           5            água nova  \n",
      "3           1          41           alexandria  \n",
      "4           0           7        almino afonso  \n",
      "..        ...         ...                  ...  \n",
      "162         0           2               várzea  \n",
      "163         0           5            venha-ver  \n",
      "164         1          27            vera cruz  \n",
      "165         0           1               viçosa  \n",
      "166         0           7            vila flor  \n",
      "\n",
      "[167 rows x 25 columns]\n"
     ]
    }
   ],
   "source": [
    "import pandas as pd\n",
    "zdf = denatran_uf.to_pandas()\n",
    "\n",
    "REGRAS = {('RN', 'ASSU'): 'açu'}\n",
    "\n",
    "# Define a function to apply the ruleset\n",
    "def get_name_c(row):\n",
    "    key = (row['sigla_uf'], row['nome_denatran'])\n",
    "    if key in REGRAS:\n",
    "        return REGRAS[key]\n",
    "    else:\n",
    "        return row['suggested_nome_ibge']\n",
    "\n",
    "# Apply the function to the DataFrame\n",
    "zdf['suggested_nome_ibge'] = zdf.apply(get_name_c, axis=1)\n",
    "\n",
    "# Print the modified DataFrame\n",
    "print(zdf)\n"
   ]
  },
  {
   "cell_type": "code",
   "execution_count": null,
   "metadata": {},
   "outputs": [
    {
     "data": {
      "text/html": [
       "<div>\n",
       "<style scoped>\n",
       "    .dataframe tbody tr th:only-of-type {\n",
       "        vertical-align: middle;\n",
       "    }\n",
       "\n",
       "    .dataframe tbody tr th {\n",
       "        vertical-align: top;\n",
       "    }\n",
       "\n",
       "    .dataframe thead th {\n",
       "        text-align: right;\n",
       "    }\n",
       "</style>\n",
       "<table border=\"1\" class=\"dataframe\">\n",
       "  <thead>\n",
       "    <tr style=\"text-align: right;\">\n",
       "      <th></th>\n",
       "      <th>sigla_uf</th>\n",
       "      <th>nome_denatran</th>\n",
       "      <th>TOTAL</th>\n",
       "      <th>AUTOMOVEL</th>\n",
       "      <th>BONDE</th>\n",
       "      <th>CAMINHAO</th>\n",
       "      <th>CAMINHAO TRATOR</th>\n",
       "      <th>CAMINHONETE</th>\n",
       "      <th>CAMIONETA</th>\n",
       "      <th>CHASSI PLATAF</th>\n",
       "      <th>...</th>\n",
       "      <th>QUADRICICLO</th>\n",
       "      <th>REBOQUE</th>\n",
       "      <th>SEMI-REBOQUE</th>\n",
       "      <th>SIDE-CAR</th>\n",
       "      <th>OUTROS</th>\n",
       "      <th>TRATOR ESTEI</th>\n",
       "      <th>TRATOR RODAS</th>\n",
       "      <th>TRICICLO</th>\n",
       "      <th>UTILITARIO</th>\n",
       "      <th>suggested_nome_ibge</th>\n",
       "    </tr>\n",
       "  </thead>\n",
       "  <tbody>\n",
       "    <tr>\n",
       "      <th>11</th>\n",
       "      <td>RN</td>\n",
       "      <td>ASSU</td>\n",
       "      <td>26667</td>\n",
       "      <td>8400</td>\n",
       "      <td>0</td>\n",
       "      <td>960</td>\n",
       "      <td>57</td>\n",
       "      <td>1668</td>\n",
       "      <td>322</td>\n",
       "      <td>0</td>\n",
       "      <td>...</td>\n",
       "      <td>0</td>\n",
       "      <td>219</td>\n",
       "      <td>97</td>\n",
       "      <td>0</td>\n",
       "      <td>97</td>\n",
       "      <td>0</td>\n",
       "      <td>0</td>\n",
       "      <td>12</td>\n",
       "      <td>186</td>\n",
       "      <td>açu</td>\n",
       "    </tr>\n",
       "  </tbody>\n",
       "</table>\n",
       "<p>1 rows × 25 columns</p>\n",
       "</div>"
      ],
      "text/plain": [
       "   sigla_uf nome_denatran  TOTAL  AUTOMOVEL  BONDE  CAMINHAO  CAMINHAO TRATOR  \\\n",
       "11       RN          ASSU  26667       8400      0       960               57   \n",
       "\n",
       "    CAMINHONETE  CAMIONETA  CHASSI PLATAF  ...  QUADRICICLO  REBOQUE  \\\n",
       "11         1668        322              0  ...            0      219   \n",
       "\n",
       "    SEMI-REBOQUE  SIDE-CAR  OUTROS  TRATOR ESTEI  TRATOR RODAS  TRICICLO  \\\n",
       "11            97         0      97             0             0        12   \n",
       "\n",
       "    UTILITARIO  suggested_nome_ibge  \n",
       "11         186                  açu  \n",
       "\n",
       "[1 rows x 25 columns]"
      ]
     },
     "execution_count": 46,
     "metadata": {},
     "output_type": "execute_result"
    }
   ],
   "source": [
    "zdf.loc[zdf['nome_denatran'] == 'ASSU']"
   ]
  },
  {
   "cell_type": "code",
   "execution_count": null,
   "metadata": {},
   "outputs": [],
   "source": [
    "import polars as pl\n",
    "\n",
    "# Create example polars DataFrame\n",
    "zdf = pl.DataFrame({\n",
    "    'sigla_uf': ['RN', 'MG', 'RS'],\n",
    "    'nome_denatran': ['ASSU', 'BELO HORIZONTE', 'PORTO ALEGRE'],\n",
    "    'suggested_nome_ibge': ['Unknown', 'Unknown', 'Unknown'],\n",
    "    'id': [1, 2, 3]\n",
    "})\n",
    "\n",
    "# Define your ruleset as a dictionary\n",
    "\n",
    "# Define a function to apply the ruleset\n",
    "\n",
    "\n",
    "# Apply the function to the polars DataFrame\n",
    "denatran_uf = denatran_uf.with_columns(denatran_uf.apply(fix_suggested_nome_ibge)['apply'].alias('suggested_nome_ibge'))\n",
    "\n"
   ]
  },
  {
   "cell_type": "code",
   "execution_count": null,
   "metadata": {},
   "outputs": [
    {
     "data": {
      "text/html": [
       "<div><style>\n",
       ".dataframe > thead > tr > th,\n",
       ".dataframe > tbody > tr > td {\n",
       "  text-align: right;\n",
       "}\n",
       "</style>\n",
       "<small>shape: (167,)</small><table border=\"1\" class=\"dataframe\"><thead><tr><th>apply</th></tr><tr><td>str</td></tr></thead><tbody><tr><td>&quot;acari&quot;</td></tr><tr><td>&quot;afonso bezerra…</td></tr><tr><td>&quot;água nova&quot;</td></tr><tr><td>&quot;alexandria&quot;</td></tr><tr><td>&quot;almino afonso&quot;</td></tr><tr><td>&quot;alto do rodrig…</td></tr><tr><td>&quot;angicos&quot;</td></tr><tr><td>&quot;antônio martin…</td></tr><tr><td>&quot;apodi&quot;</td></tr><tr><td>&quot;areia branca&quot;</td></tr><tr><td>&quot;arês&quot;</td></tr><tr><td>&quot;açu&quot;</td></tr><tr><td>&hellip;</td></tr><tr><td>&quot;tibau&quot;</td></tr><tr><td>&quot;tibau do sul&quot;</td></tr><tr><td>&quot;timbaúba dos b…</td></tr><tr><td>&quot;touros&quot;</td></tr><tr><td>&quot;triunfo potigu…</td></tr><tr><td>&quot;umarizal&quot;</td></tr><tr><td>&quot;upanema&quot;</td></tr><tr><td>&quot;várzea&quot;</td></tr><tr><td>&quot;venha-ver&quot;</td></tr><tr><td>&quot;vera cruz&quot;</td></tr><tr><td>&quot;viçosa&quot;</td></tr><tr><td>&quot;vila flor&quot;</td></tr></tbody></table></div>"
      ],
      "text/plain": [
       "shape: (167,)\n",
       "Series: 'apply' [str]\n",
       "[\n",
       "\t\"acari\"\n",
       "\t\"afonso bezerra…\n",
       "\t\"água nova\"\n",
       "\t\"alexandria\"\n",
       "\t\"almino afonso\"\n",
       "\t\"alto do rodrig…\n",
       "\t\"angicos\"\n",
       "\t\"antônio martin…\n",
       "\t\"apodi\"\n",
       "\t\"areia branca\"\n",
       "\t\"arês\"\n",
       "\t\"açu\"\n",
       "\t…\n",
       "\t\"tenente lauren…\n",
       "\t\"tibau\"\n",
       "\t\"tibau do sul\"\n",
       "\t\"timbaúba dos b…\n",
       "\t\"touros\"\n",
       "\t\"triunfo potigu…\n",
       "\t\"umarizal\"\n",
       "\t\"upanema\"\n",
       "\t\"várzea\"\n",
       "\t\"venha-ver\"\n",
       "\t\"vera cruz\"\n",
       "\t\"viçosa\"\n",
       "\t\"vila flor\"\n",
       "]"
      ]
     },
     "execution_count": 62,
     "metadata": {},
     "output_type": "execute_result"
    }
   ],
   "source": [
    "denatran_uf.apply(get_suggested_nome_ibge)['apply']\n"
   ]
  }
 ],
 "metadata": {
  "kernelspec": {
   "display_name": "pipelines-Fyk5jlG0-py3.10",
   "language": "python",
   "name": "python3"
  },
  "language_info": {
   "codemirror_mode": {
    "name": "ipython",
    "version": 3
   },
   "file_extension": ".py",
   "mimetype": "text/x-python",
   "name": "python",
   "nbconvert_exporter": "python",
   "pygments_lexer": "ipython3",
   "version": "3.10.6"
  },
  "orig_nbformat": 4
 },
 "nbformat": 4,
 "nbformat_minor": 2
}
