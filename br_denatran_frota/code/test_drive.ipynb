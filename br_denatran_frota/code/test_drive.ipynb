{
 "cells": [
  {
   "cell_type": "code",
   "execution_count": 1,
   "metadata": {},
   "outputs": [],
   "source": [
    "import polars as pl\n",
    "import pandas as pd \n",
    "import os\n",
    "import re\n",
    "import glob\n",
    "from urllib.request import urlopen, urlretrieve\n",
    "from zipfile import ZipFile\n",
    "from rarfile import RarFile\n",
    "from bs4 import BeautifulSoup\n",
    "import difflib\n",
    "from utils import guess_header, change_df_header, get_year_month_from_filename, treat_uf_tipo\n",
    "DICT_UFS = {\n",
    "    \"AC\": \"Acre\",\n",
    "    \"AL\": \"Alagoas\",\n",
    "    \"AP\": \"Amapá\",\n",
    "    \"AM\": \"Amazonas\",\n",
    "    \"BA\": \"Bahia\",\n",
    "    \"CE\": \"Ceará\",\n",
    "    \"DF\": \"Distrito Federal\",\n",
    "    \"ES\": \"Espírito Santo\",\n",
    "    \"GO\": \"Goiás\",\n",
    "    \"MA\": \"Maranhão\",\n",
    "    \"MT\": \"Mato Grosso\",\n",
    "    \"MS\": \"Mato Grosso do Sul\",\n",
    "    \"MG\": \"Minas Gerais\",\n",
    "    \"PA\": \"Pará\",\n",
    "    \"PB\": \"Paraíba\",\n",
    "    \"PR\": \"Paraná\",\n",
    "    \"PE\": \"Pernambuco\",\n",
    "    \"PI\": \"Piauí\",\n",
    "    \"RJ\": \"Rio de Janeiro\",\n",
    "    \"RN\": \"Rio Grande do Norte\",\n",
    "    \"RS\": \"Rio Grande do Sul\",\n",
    "    \"RO\": \"Rondônia\",\n",
    "    \"RR\": \"Roraima\",\n",
    "    \"SC\": \"Santa Catarina\",\n",
    "    \"SP\": \"São Paulo\",\n",
    "    \"SE\": \"Sergipe\",\n",
    "    \"TO\": \"Tocantins\",\n",
    "}"
   ]
  },
  {
   "cell_type": "code",
   "execution_count": 2,
   "metadata": {},
   "outputs": [],
   "source": [
    "\n",
    "#treat_uf_tipo('../files/2022/frota_por_uf_e_tipo_de_veículo_2-2022.xls')"
   ]
  },
  {
   "cell_type": "code",
   "execution_count": 8,
   "metadata": {},
   "outputs": [],
   "source": [
    "from download_frota import download_frota"
   ]
  },
  {
   "cell_type": "code",
   "execution_count": 9,
   "metadata": {},
   "outputs": [
    {
     "name": "stdout",
     "output_type": "stream",
     "text": [
      "Download of frota_por_uf_e_tipo_de_veículo_2-2022.xls complete\n",
      "Download of frota_por_município_e_tipo_2-2022.xls complete\n"
     ]
    }
   ],
   "source": [
    "download_frota(2, 2022)"
   ]
  },
  {
   "cell_type": "code",
   "execution_count": 3,
   "metadata": {},
   "outputs": [
    {
     "name": "stderr",
     "output_type": "stream",
     "text": [
      "/home/tamir/.cache/pypoetry/virtualenvs/pipelines-Fyk5jlG0-py3.10/lib/python3.10/site-packages/requests/__init__.py:102: RequestsDependencyWarning: urllib3 (1.26.7) or chardet (5.1.0)/charset_normalizer (2.0.8) doesn't match a supported version!\n",
      "  warnings.warn(\"urllib3 ({}) or chardet ({})/charset_normalizer ({}) doesn't match a supported \"\n",
      "Downloading: 100%|██████████| 5570/5570 [00:00<00:00, 10744.58rows/s]\n"
     ]
    }
   ],
   "source": [
    "import basedosdados as bd \n",
    "municipios_query = \"\"\"SELECT nome, id_municipio, sigla_uf FROM `basedosdados.br_bd_diretorios_brasil.municipio`\n",
    "\"\"\"\n",
    "bd_municipios = bd.read_sql(municipios_query, 'tamir-pipelines')\n",
    "bd_municipios = pl.from_pandas(bd_municipios)"
   ]
  },
  {
   "cell_type": "code",
   "execution_count": 4,
   "metadata": {},
   "outputs": [],
   "source": [
    "file = '../files/2022/frota_por_município_e_tipo_2-2022.xls'\n",
    "filename = os.path.split(file)[1]\n",
    "df = pd.read_excel(file)\n",
    "new_df  = change_df_header(df, guess_header(df))\n",
    "new_df.rename(columns={ new_df.columns[0]: \"sigla_uf\" , new_df.columns[1]: 'nome_denatran'}, inplace= True) # Rename for ease of use.\n",
    "new_df.sigla_uf = new_df.sigla_uf.str.strip() # Remove whitespace.\n",
    "new_df = pl.from_pandas(new_df)"
   ]
  },
  {
   "cell_type": "code",
   "execution_count": 5,
   "metadata": {},
   "outputs": [],
   "source": [
    "uf = 'RN'"
   ]
  },
  {
   "cell_type": "code",
   "execution_count": 6,
   "metadata": {},
   "outputs": [],
   "source": [
    "# for uf in DICT_UFS:\n",
    "denatran_uf = new_df.filter(pl.col('sigla_uf') == uf)\n",
    "ibge_uf = bd_municipios.filter(pl.col('sigla_uf') == uf)\n",
    "ibge_uf = ibge_uf.with_columns(pl.col('nome').str.to_lowercase())"
   ]
  },
  {
   "cell_type": "code",
   "execution_count": 1,
   "metadata": {},
   "outputs": [
    {
     "ename": "NameError",
     "evalue": "name 'denatran_uf' is not defined",
     "output_type": "error",
     "traceback": [
      "\u001b[0;31m---------------------------------------------------------------------------\u001b[0m",
      "\u001b[0;31mNameError\u001b[0m                                 Traceback (most recent call last)",
      "Cell \u001b[0;32mIn[1], line 1\u001b[0m\n\u001b[0;32m----> 1\u001b[0m denatran_uf\n",
      "\u001b[0;31mNameError\u001b[0m: name 'denatran_uf' is not defined"
     ]
    }
   ],
   "source": [
    "denatran_uf"
   ]
  },
  {
   "cell_type": "code",
   "execution_count": 7,
   "metadata": {},
   "outputs": [],
   "source": [
    "def get_city_name_ibge(denatran_name: str):\n",
    "    matches = difflib.get_close_matches(denatran_name.lower(), ibge_uf['nome'].str.to_lowercase(), n = 1)\n",
    "    if matches:\n",
    "        return matches[0]\n",
    "    else:\n",
    "        return '' # I don't want this to error out directly, because then I can get all municipalities.\n",
    "x = denatran_uf['nome_denatran'].apply(get_city_name_ibge)\n",
    "denatran_uf = denatran_uf.with_columns(x.alias('suggested_nome_ibge'))"
   ]
  },
  {
   "cell_type": "code",
   "execution_count": 8,
   "metadata": {},
   "outputs": [],
   "source": [
    "def match_ibge(denatran_uf: pl.DataFrame, ibge_uf: pl.DataFrame):\n",
    "    joined_df = denatran_uf.join(ibge_uf, left_on=['suggested_nome_ibge', 'sigla_uf'], right_on=['nome', 'sigla_uf'], how='left')\n",
    "    mismatched_rows = joined_df.filter(pl.col('id_municipio').is_null())\n",
    "\n",
    "    if len(mismatched_rows) > 0:\n",
    "        error_message = \"Os seguintes municípios falharam: \\n\"\n",
    "        for row in mismatched_rows.rows(named = True):\n",
    "            error_message += f\"{row['nome_denatran']} ({row['sigla_uf']})\\n\"\n",
    "        raise ValueError(error_message)\n"
   ]
  },
  {
   "cell_type": "code",
   "execution_count": 9,
   "metadata": {},
   "outputs": [
    {
     "ename": "ValueError",
     "evalue": "Os seguintes municípios falharam: \nASSU (RN)\n",
     "output_type": "error",
     "traceback": [
      "\u001b[0;31m---------------------------------------------------------------------------\u001b[0m",
      "\u001b[0;31mValueError\u001b[0m                                Traceback (most recent call last)",
      "Cell \u001b[0;32mIn[9], line 1\u001b[0m\n\u001b[0;32m----> 1\u001b[0m match_ibge(denatran_uf, ibge_uf)\n",
      "Cell \u001b[0;32mIn[8], line 9\u001b[0m, in \u001b[0;36mmatch_ibge\u001b[0;34m(denatran_uf, ibge_uf)\u001b[0m\n\u001b[1;32m      7\u001b[0m \u001b[39mfor\u001b[39;00m row \u001b[39min\u001b[39;00m mismatched_rows\u001b[39m.\u001b[39mrows(named \u001b[39m=\u001b[39m \u001b[39mTrue\u001b[39;00m):\n\u001b[1;32m      8\u001b[0m     error_message \u001b[39m+\u001b[39m\u001b[39m=\u001b[39m \u001b[39mf\u001b[39m\u001b[39m\"\u001b[39m\u001b[39m{\u001b[39;00mrow[\u001b[39m'\u001b[39m\u001b[39mnome_denatran\u001b[39m\u001b[39m'\u001b[39m]\u001b[39m}\u001b[39;00m\u001b[39m (\u001b[39m\u001b[39m{\u001b[39;00mrow[\u001b[39m'\u001b[39m\u001b[39msigla_uf\u001b[39m\u001b[39m'\u001b[39m]\u001b[39m}\u001b[39;00m\u001b[39m)\u001b[39m\u001b[39m\\n\u001b[39;00m\u001b[39m\"\u001b[39m\n\u001b[0;32m----> 9\u001b[0m \u001b[39mraise\u001b[39;00m \u001b[39mValueError\u001b[39;00m(error_message)\n",
      "\u001b[0;31mValueError\u001b[0m: Os seguintes municípios falharam: \nASSU (RN)\n"
     ]
    }
   ],
   "source": [
    "match_ibge(denatran_uf, ibge_uf)"
   ]
  },
  {
   "cell_type": "code",
   "execution_count": 232,
   "metadata": {},
   "outputs": [],
   "source": [
    "joined_df = denatran_uf.join(ibge_uf, left_on=['suggested_nome_ibge', 'sigla_uf'], right_on=['nome', 'sigla_uf'], how='left')\n",
    "\n",
    "mismatched = joined_df.filter(pl.col('id_municipio').is_null())"
   ]
  },
  {
   "cell_type": "code",
   "execution_count": 146,
   "metadata": {},
   "outputs": [],
   "source": [
    "def verify_total(df: pl.DataFrame):\n",
    "    columns_for_total = df.select( pl.exclude(\"TOTAL\")).select(pl.exclude([pl.Utf8]))\n",
    "    calculated_total = columns_for_total.select( pl.fold(        acc=pl.lit(0), function=lambda acc, x: acc + x, exprs=pl.col(\"*\")\n",
    "    ).alias(\"calculated_total\"))['calculated_total']\n",
    "\n",
    "    mask = df['TOTAL'] == calculated_total\n",
    "    if pl.sum(~mask) != 0:\n",
    "        raise ValueError('A coluna de TOTAL da base original tem inconsistências e não soma tudo das demais colunas.')\n",
    " # Verifies that we can do drop total and do LONG. \n",
    "verify_total(new_df)"
   ]
  },
  {
   "cell_type": "code",
   "execution_count": 12,
   "metadata": {},
   "outputs": [
    {
     "ename": "TypeError",
     "evalue": "DataFrame.apply() got an unexpected keyword argument 'predicate'",
     "output_type": "error",
     "traceback": [
      "\u001b[0;31m---------------------------------------------------------------------------\u001b[0m",
      "\u001b[0;31mTypeError\u001b[0m                                 Traceback (most recent call last)",
      "Cell \u001b[0;32mIn[12], line 12\u001b[0m\n\u001b[1;32m     10\u001b[0m \u001b[39m# set id_municipio to 1 when nome_denatran is 'B' and sigla_uf is 'MG'\u001b[39;00m\n\u001b[1;32m     11\u001b[0m mask1 \u001b[39m=\u001b[39m (df[\u001b[39m'\u001b[39m\u001b[39mnome_denatran\u001b[39m\u001b[39m'\u001b[39m] \u001b[39m==\u001b[39m \u001b[39m'\u001b[39m\u001b[39mB\u001b[39m\u001b[39m'\u001b[39m) \u001b[39m&\u001b[39m (df[\u001b[39m'\u001b[39m\u001b[39msigla_uf\u001b[39m\u001b[39m'\u001b[39m] \u001b[39m==\u001b[39m \u001b[39m'\u001b[39m\u001b[39mMG\u001b[39m\u001b[39m'\u001b[39m)\n\u001b[0;32m---> 12\u001b[0m df[\u001b[39m'\u001b[39m\u001b[39mid_municipio\u001b[39m\u001b[39m'\u001b[39m] \u001b[39m=\u001b[39m df\u001b[39m.\u001b[39;49mapply(\u001b[39mlambda\u001b[39;49;00m x: \u001b[39m1\u001b[39;49m \u001b[39mif\u001b[39;49;00m mask1[x] \u001b[39melse\u001b[39;49;00m x[\u001b[39m'\u001b[39;49m\u001b[39mid_municipio\u001b[39;49m\u001b[39m'\u001b[39;49m], predicate\u001b[39m=\u001b[39;49mmask1)\n\u001b[1;32m     14\u001b[0m \u001b[39m# set id_municipio to 23 when nome_denatran is 'C' and sigla_uf is 'RJ'\u001b[39;00m\n\u001b[1;32m     15\u001b[0m mask2 \u001b[39m=\u001b[39m (df[\u001b[39m'\u001b[39m\u001b[39mnome_denatran\u001b[39m\u001b[39m'\u001b[39m] \u001b[39m==\u001b[39m \u001b[39m'\u001b[39m\u001b[39mC\u001b[39m\u001b[39m'\u001b[39m) \u001b[39m&\u001b[39m (df[\u001b[39m'\u001b[39m\u001b[39msigla_uf\u001b[39m\u001b[39m'\u001b[39m] \u001b[39m==\u001b[39m \u001b[39m'\u001b[39m\u001b[39mRJ\u001b[39m\u001b[39m'\u001b[39m)\n",
      "\u001b[0;31mTypeError\u001b[0m: DataFrame.apply() got an unexpected keyword argument 'predicate'"
     ]
    }
   ],
   "source": [
    "import polars as pl\n",
    "\n",
    "# create a sample polars data frame\n",
    "df = pl.DataFrame({\n",
    "    'nome_denatran': ['A', 'B', 'C', 'D'],\n",
    "    'sigla_uf': ['SP', 'MG', 'RJ', 'ES'],\n",
    "    'id_municipio': [0, 0, 0, 0]\n",
    "})\n",
    "\n",
    "# set id_municipio to 1 when nome_denatran is 'B' and sigla_uf is 'MG'\n",
    "mask1 = (df['nome_denatran'] == 'B') & (df['sigla_uf'] == 'MG')\n",
    "df['id_municipio'] = df.apply(lambda x: 1 if mask1[x] else x['id_municipio'], predicate=mask1)\n",
    "\n",
    "# set id_municipio to 23 when nome_denatran is 'C' and sigla_uf is 'RJ'\n",
    "mask2 = (df['nome_denatran'] == 'C') & (df['sigla_uf'] == 'RJ')\n",
    "df['id_municipio'] = df.apply(lambda x: 23 if mask2[x] else x['id_municipio'], predicate=mask2)\n",
    "\n",
    "# print the updated data frame\n",
    "print(df)\n"
   ]
  }
 ],
 "metadata": {
  "kernelspec": {
   "display_name": "pipelines-Fyk5jlG0-py3.10",
   "language": "python",
   "name": "python3"
  },
  "language_info": {
   "codemirror_mode": {
    "name": "ipython",
    "version": 3
   },
   "file_extension": ".py",
   "mimetype": "text/x-python",
   "name": "python",
   "nbconvert_exporter": "python",
   "pygments_lexer": "ipython3",
   "version": "3.10.6"
  },
  "orig_nbformat": 4
 },
 "nbformat": 4,
 "nbformat_minor": 2
}
