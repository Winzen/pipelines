{
 "cells": [
  {
   "cell_type": "code",
   "execution_count": 9,
   "metadata": {},
   "outputs": [],
   "source": [
    "import polars as pl\n",
    "import pandas as pd \n",
    "import os\n",
    "import re\n",
    "import glob\n",
    "from urllib.request import urlopen, urlretrieve\n",
    "from zipfile import ZipFile\n",
    "from rarfile import RarFile\n",
    "from bs4 import BeautifulSoup\n",
    "import difflib\n",
    "from br_denatran_frota.code.utils import *\n",
    "from br_denatran_frota.code.constants import DICT_UFS, SUBSTITUTIONS"
   ]
  },
  {
   "cell_type": "code",
   "execution_count": null,
   "metadata": {},
   "outputs": [],
   "source": [
    "\n",
    "#treat_uf_tipo('../files/2022/frota_por_uf_e_tipo_de_veículo_2-2022.xls')"
   ]
  },
  {
   "cell_type": "code",
   "execution_count": null,
   "metadata": {},
   "outputs": [],
   "source": [
    "from download_frota import download_frota"
   ]
  },
  {
   "cell_type": "code",
   "execution_count": null,
   "metadata": {},
   "outputs": [
    {
     "name": "stdout",
     "output_type": "stream",
     "text": [
      "Download of frota_por_uf_e_tipo_de_veículo_2-2022.xls complete\n",
      "Download of frota_por_município_e_tipo_2-2022.xls complete\n"
     ]
    }
   ],
   "source": [
    "download_frota(2, 2022)"
   ]
  },
  {
   "cell_type": "code",
   "execution_count": 10,
   "metadata": {},
   "outputs": [
    {
     "name": "stderr",
     "output_type": "stream",
     "text": [
      "/home/tamir/.cache/pypoetry/virtualenvs/pipelines-Fyk5jlG0-py3.10/lib/python3.10/site-packages/requests/__init__.py:102: RequestsDependencyWarning: urllib3 (1.26.7) or chardet (5.1.0)/charset_normalizer (2.0.8) doesn't match a supported version!\n",
      "  warnings.warn(\"urllib3 ({}) or chardet ({})/charset_normalizer ({}) doesn't match a supported \"\n",
      "Downloading: 100%|██████████| 5570/5570 [00:00<00:00, 8581.01rows/s]\n"
     ]
    }
   ],
   "source": [
    "import basedosdados as bd \n",
    "municipios_query = \"\"\"SELECT nome, id_municipio, sigla_uf FROM `basedosdados.br_bd_diretorios_brasil.municipio`\n",
    "\"\"\"\n",
    "bd_municipios = bd.read_sql(municipios_query, 'tamir-pipelines')\n",
    "bd_municipios = pl.from_pandas(bd_municipios)"
   ]
  },
  {
   "cell_type": "code",
   "execution_count": 11,
   "metadata": {},
   "outputs": [],
   "source": [
    "file = '../files/2022/frota_por_município_e_tipo_2-2022.xls'\n",
    "filename = os.path.split(file)[1]\n",
    "df = pd.read_excel(file)\n",
    "new_df  = change_df_header(df, guess_header(df))\n",
    "new_df.rename(columns={ new_df.columns[0]: \"sigla_uf\" , new_df.columns[1]: 'nome_denatran'}, inplace= True) # Rename for ease of use.\n",
    "new_df.sigla_uf = new_df.sigla_uf.str.strip() # Remove whitespace.\n",
    "new_df = pl.from_pandas(new_df)"
   ]
  },
  {
   "cell_type": "code",
   "execution_count": null,
   "metadata": {},
   "outputs": [],
   "source": [
    "new_df = new_df.with_columns(new_df.apply(fix_suggested_nome_ibge)['apply'].alias('suggested_nome_ibge'))"
   ]
  },
  {
   "cell_type": "code",
   "execution_count": null,
   "metadata": {},
   "outputs": [],
   "source": [
    "# for uf in DICT_UFS:\n",
    "denatran_uf = new_df.filter(pl.col('sigla_uf') == uf)\n",
    "ibge_uf = bd_municipios.filter(pl.col('sigla_uf') == uf)\n",
    "ibge_uf = ibge_uf.with_columns(pl.col('nome').str.to_lowercase())"
   ]
  },
  {
   "cell_type": "code",
   "execution_count": null,
   "metadata": {},
   "outputs": [],
   "source": [
    "\n",
    "x = denatran_uf['nome_denatran'].apply(get_city_name_ibge)\n",
    "denatran_uf = denatran_uf.with_columns(x.alias('suggested_nome_ibge'))"
   ]
  },
  {
   "cell_type": "code",
   "execution_count": null,
   "metadata": {},
   "outputs": [],
   "source": []
  },
  {
   "cell_type": "code",
   "execution_count": 4,
   "metadata": {},
   "outputs": [
    {
     "ename": "NameError",
     "evalue": "name 'denatran_uf' is not defined",
     "output_type": "error",
     "traceback": [
      "\u001b[0;31m---------------------------------------------------------------------------\u001b[0m",
      "\u001b[0;31mNameError\u001b[0m                                 Traceback (most recent call last)",
      "Cell \u001b[0;32mIn[4], line 1\u001b[0m\n\u001b[0;32m----> 1\u001b[0m match_ibge(denatran_uf, ibge_uf)\n",
      "\u001b[0;31mNameError\u001b[0m: name 'denatran_uf' is not defined"
     ]
    }
   ],
   "source": [
    "match_ibge(denatran_uf, ibge_uf)"
   ]
  },
  {
   "cell_type": "code",
   "execution_count": null,
   "metadata": {},
   "outputs": [],
   "source": [
    "nomes = ibge_uf['nome'].to_list()"
   ]
  },
  {
   "cell_type": "code",
   "execution_count": null,
   "metadata": {},
   "outputs": [],
   "source": []
  },
  {
   "cell_type": "code",
   "execution_count": null,
   "metadata": {},
   "outputs": [],
   "source": [
    "joined_df = denatran_uf.join(ibge_uf, left_on=['suggested_nome_ibge', 'sigla_uf'], right_on=['nome', 'sigla_uf'], how='left')\n",
    "\n",
    "mismatched = joined_df.filter(pl.col('id_municipio').is_null())"
   ]
  },
  {
   "cell_type": "code",
   "execution_count": null,
   "metadata": {},
   "outputs": [
    {
     "data": {
      "text/html": [
       "<div>\n",
       "<style scoped>\n",
       "    .dataframe tbody tr th:only-of-type {\n",
       "        vertical-align: middle;\n",
       "    }\n",
       "\n",
       "    .dataframe tbody tr th {\n",
       "        vertical-align: top;\n",
       "    }\n",
       "\n",
       "    .dataframe thead th {\n",
       "        text-align: right;\n",
       "    }\n",
       "</style>\n",
       "<table border=\"1\" class=\"dataframe\">\n",
       "  <thead>\n",
       "    <tr style=\"text-align: right;\">\n",
       "      <th></th>\n",
       "      <th>sigla_uf</th>\n",
       "      <th>nome_denatran</th>\n",
       "      <th>TOTAL</th>\n",
       "      <th>AUTOMOVEL</th>\n",
       "      <th>BONDE</th>\n",
       "      <th>CAMINHAO</th>\n",
       "      <th>CAMINHAO TRATOR</th>\n",
       "      <th>CAMINHONETE</th>\n",
       "      <th>CAMIONETA</th>\n",
       "      <th>CHASSI PLATAF</th>\n",
       "      <th>...</th>\n",
       "      <th>QUADRICICLO</th>\n",
       "      <th>REBOQUE</th>\n",
       "      <th>SEMI-REBOQUE</th>\n",
       "      <th>SIDE-CAR</th>\n",
       "      <th>OUTROS</th>\n",
       "      <th>TRATOR ESTEI</th>\n",
       "      <th>TRATOR RODAS</th>\n",
       "      <th>TRICICLO</th>\n",
       "      <th>UTILITARIO</th>\n",
       "      <th>suggested_nome_ibge</th>\n",
       "    </tr>\n",
       "  </thead>\n",
       "  <tbody>\n",
       "    <tr>\n",
       "      <th>11</th>\n",
       "      <td>RN</td>\n",
       "      <td>ASSU</td>\n",
       "      <td>26667</td>\n",
       "      <td>8400</td>\n",
       "      <td>0</td>\n",
       "      <td>960</td>\n",
       "      <td>57</td>\n",
       "      <td>1668</td>\n",
       "      <td>322</td>\n",
       "      <td>0</td>\n",
       "      <td>...</td>\n",
       "      <td>0</td>\n",
       "      <td>219</td>\n",
       "      <td>97</td>\n",
       "      <td>0</td>\n",
       "      <td>97</td>\n",
       "      <td>0</td>\n",
       "      <td>0</td>\n",
       "      <td>12</td>\n",
       "      <td>186</td>\n",
       "      <td>açu</td>\n",
       "    </tr>\n",
       "  </tbody>\n",
       "</table>\n",
       "<p>1 rows × 25 columns</p>\n",
       "</div>"
      ],
      "text/plain": [
       "   sigla_uf nome_denatran  TOTAL  AUTOMOVEL  BONDE  CAMINHAO  CAMINHAO TRATOR  \\\n",
       "11       RN          ASSU  26667       8400      0       960               57   \n",
       "\n",
       "    CAMINHONETE  CAMIONETA  CHASSI PLATAF  ...  QUADRICICLO  REBOQUE  \\\n",
       "11         1668        322              0  ...            0      219   \n",
       "\n",
       "    SEMI-REBOQUE  SIDE-CAR  OUTROS  TRATOR ESTEI  TRATOR RODAS  TRICICLO  \\\n",
       "11            97         0      97             0             0        12   \n",
       "\n",
       "    UTILITARIO  suggested_nome_ibge  \n",
       "11         186                  açu  \n",
       "\n",
       "[1 rows x 25 columns]"
      ]
     },
     "execution_count": 46,
     "metadata": {},
     "output_type": "execute_result"
    }
   ],
   "source": [
    "zdf.loc[zdf['nome_denatran'] == 'ASSU']"
   ]
  }
 ],
 "metadata": {
  "kernelspec": {
   "display_name": "pipelines-Fyk5jlG0-py3.10",
   "language": "python",
   "name": "python3"
  },
  "language_info": {
   "codemirror_mode": {
    "name": "ipython",
    "version": 3
   },
   "file_extension": ".py",
   "mimetype": "text/x-python",
   "name": "python",
   "nbconvert_exporter": "python",
   "pygments_lexer": "ipython3",
   "version": "3.10.6"
  },
  "orig_nbformat": 4
 },
 "nbformat": 4,
 "nbformat_minor": 2
}
